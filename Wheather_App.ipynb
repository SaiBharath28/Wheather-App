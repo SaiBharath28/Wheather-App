{
  "nbformat": 4,
  "nbformat_minor": 0,
  "metadata": {
    "colab": {
      "provenance": [],
      "authorship_tag": "ABX9TyMEoHa5aBadwl2xcIaiFjqJ",
      "include_colab_link": true
    },
    "kernelspec": {
      "name": "python3",
      "display_name": "Python 3"
    },
    "language_info": {
      "name": "python"
    }
  },
  "cells": [
    {
      "cell_type": "markdown",
      "metadata": {
        "id": "view-in-github",
        "colab_type": "text"
      },
      "source": [
        "<a href=\"https://colab.research.google.com/github/SaiBharath28/Wheather-App/blob/main/Wheather_App.ipynb\" target=\"_parent\"><img src=\"https://colab.research.google.com/assets/colab-badge.svg\" alt=\"Open In Colab\"/></a>"
      ]
    },
    {
      "cell_type": "code",
      "source": [
        "!pip install pyngrok --upgrade"
      ],
      "metadata": {
        "colab": {
          "base_uri": "https://localhost:8080/"
        },
        "id": "nSIiASOvuWUQ",
        "outputId": "e2da9629-d10b-4e31-c44f-2c6370a5ea7b"
      },
      "execution_count": 8,
      "outputs": [
        {
          "output_type": "stream",
          "name": "stdout",
          "text": [
            "Requirement already satisfied: pyngrok in /usr/local/lib/python3.11/dist-packages (7.2.3)\n",
            "Requirement already satisfied: PyYAML>=5.1 in /usr/local/lib/python3.11/dist-packages (from pyngrok) (6.0.2)\n"
          ]
        }
      ]
    },
    {
      "cell_type": "code",
      "source": [
        "!ngrok authtoken 2mRFKVUQNNnZC8t6PzWQgqqRFki_4ie9vFETJT2pDDEkwUcxG"
      ],
      "metadata": {
        "colab": {
          "base_uri": "https://localhost:8080/"
        },
        "id": "1ybW-qTTt1sZ",
        "outputId": "ab1e1462-dc68-428e-e72d-f0af4316818f"
      },
      "execution_count": 9,
      "outputs": [
        {
          "output_type": "stream",
          "name": "stdout",
          "text": [
            "Authtoken saved to configuration file: /root/.config/ngrok/ngrok.yml\n"
          ]
        }
      ]
    },
    {
      "cell_type": "code",
      "source": [
        "!curl -s https://ngrok-agent.s3.amazonaws.com/ngrok.asc | sudo tee /etc/apt/trusted.gpg.d/ngrok.asc\n",
        "!echo \"deb https://ngrok-agent.s3.amazonaws.com buster main\" | sudo tee /etc/apt/sources.list.d/ngrok.list\n",
        "!sudo apt update && sudo apt install ngrok\n",
        "\n"
      ],
      "metadata": {
        "colab": {
          "base_uri": "https://localhost:8080/"
        },
        "id": "QXlVNj6Zudj7",
        "outputId": "33c9f46f-1ca0-4c86-aa4e-15630becadf5"
      },
      "execution_count": 10,
      "outputs": [
        {
          "output_type": "stream",
          "name": "stdout",
          "text": [
            "-----BEGIN PGP PUBLIC KEY BLOCK-----\n",
            "\n",
            "mQINBGFGa/IBEAC0pgrns33QSiSipIKRnUCLeXX8d8WQjeqOqVEA6QlavAW54hKn\n",
            "uHbbf151LFp0eGGaTp5ppJih2u9geiE8GxVACMuCHdlI0d35wAkucr+15qG+rfxm\n",
            "qLkGGWARsRni3RJwg9R6/MwBgG6lB6mXOws2o/dnB8+wXnES5K9fBL2ZcSgtOQNn\n",
            "Et0LWhZ3aJP79LMJn5yCuCI4lbKXMVL7LpLEM7gxOD6qjTkn6b34NliTeKwjXw9A\n",
            "3qWj9UA++51q8lxDlGrklNlQMAUPXLXG22qEGhzmXAL88ldciED1iVL0tzofsVfj\n",
            "hQPvt7i0xJd9/t42aK1ZtVUJdDjhoIDeZ4IRlT57K1cf3tUgGTD5xhnF7uZHJuqI\n",
            "kOJc2+JwjLxRRnZE4PzaBzKKBYs/KM3F49Kv7IrlDl8ggwI9c7ReWJtgOOibtGgZ\n",
            "AX1N+Hh6fNpWlgaf2VLTLU7m9gF1HDumXUC6gunQyzlNYJ4CsFm34E1r8lIMQAX3\n",
            "SNWdeu119p0KhzCEqNlVxEqvldzoZ5oAqAnqIEVsvuQLblqCh6yDEuV5mTS6pE45\n",
            "oMEq9jgBQ+mjqkzVpB7g8H7+gcFs/EBIv+V77fN8dqiw+7mKYOFSkvJTiyxnDgSK\n",
            "0VKFsVRe8pfkrjzZUccPt0cWajoj2rJmD3JcVOcUlCcQnTH/QdKVLB6wewARAQAB\n",
            "tDhuZ3JvayBhZ2VudCBhcHQgcmVwbyByZWxlYXNlIGJvdCA8cmVsZWFzZS1ib3RA\n",
            "bmdyb2suY29tPokCTgQTAQgAOBYhBPAnH89xLPLjmQHxow5h07uq7jf+BQJhRmvy\n",
            "AhsDBQsJCAcCBhUKCQgLAgQWAgMBAh4BAheAAAoJEA5h07uq7jf+0FIP/1RCUUkX\n",
            "QlUzQDmZzusTfN2oeXN6OHk/4kq+qLlkbsdL11rwoRemGKUQu4Qkt8ssAv1w1mRc\n",
            "LzFwgxbGH4Q1Ja+F2ZBbsO8HWxSQY0YkdLpHPDOHRAVF5S0JpitRCm86piQ2vfKB\n",
            "pvBgINWQgp0BDT0tB60Hi+AdpV4jrBd//d/+qf2E4nACmfN4GER7ogRDNcKxSDHL\n",
            "KBk+UeB7vkllkgrNo3J+OrHmp69sXIsTfjyyjNt+RZYv+eAcdRd2lpvr2iK723lS\n",
            "fujtwN1IjnxvnTx4ts7NVzVrdGTHBd/IayGNV+RqxswCPm+5Uf1wGpD1yc2oarbu\n",
            "bEAiF8DEz6XQ1lrsMPbs6jZOoofqNbd4qtrdX/mA8iXZYFRDCXRux54A69aA3MEO\n",
            "sXxr+Jz24Gea9hKRfNV7TRJugiw63TC7RH2QJy0KUc4U/aE9njD1k3I3WGc7id9F\n",
            "iHM2Zjxep1BGogRCbXI/JYJ9MaSv8sNBQ1sCu8d71iU9dh4sec3++lCElcWX5/kr\n",
            "jkAPaxiS/OoTqHdQjCDtsP7d5KSpEnhD22v/+UTa2C3BNtWYEYKqMt2kkBdAvoVt\n",
            "P3tlyPN7xQd9PRMG65XWJjLdrzjJBpM9RmsZSxew3etYZeYEU9B6qEwxzBoRW+sH\n",
            "B9E+eW/AxXjAE85JqxfwSOpf3kw32e+UyKEwuQINBGFGa/IBEADjs4nY3fLk9Qss\n",
            "FYC3gGYadiz+w9Q5Fw/hPo7e5J3AIKnEXD88g1uDtSNKvxqkdM3ktAUh9ah/mJFK\n",
            "PDsO94vka1Sn/lqgerlVH+fdo0l9iJXaJyuD1OxOCe27ydF7M8e/Su2MiG59eQtG\n",
            "FZw8wWcpg7s/L69g5K+u7SwMB1+ozaFKOsfxwEZRaWNvbVmS8lrcqzO4/200HqfS\n",
            "gq9RizZKcIIN05gEK9SuB4tZCoRYYpDRx65TVplcdMK9lYX101nXEzm/tAJMPM16\n",
            "aBtHJssI3vMX1Of2aDVUO+lT3PzxSx+V3VG1ibCBAgxaVCdLAnR9PLw0PFpIpwx6\n",
            "jTfCbhC0YcZRB5LGYWSVUgqWB1zqYjjXAC5YHRCQ1vsU22/biVfEpd6qBvGsZWd7\n",
            "9DlnIEdl47rZAQEAF1Jtj2bny3aREzfWME3Z3hifJToIMszDP4g057ehJzSnH0qV\n",
            "40o00vv+ooSduMPJkZvQOXgvyQmN3hIU3Aw6HCxl95Vmhd84I7O77AAbTnoYo/Gn\n",
            "ALtJnRfFH0R2vNJZm8JDIegww+o23BkonDvEddXxiysBlQHsVdZiW39VIm8J+uyw\n",
            "9QIiqkazku+O8wJRZCVJilXdq62jyaDYds7jEgqieXqP8bMgIT7FAkPV6EcCMz+E\n",
            "YqeWN4QzG7Yfj0gbv8YHixzqGOWf9wARAQABiQI2BBgBCAAgFiEE8Ccfz3Es8uOZ\n",
            "AfGjDmHTu6ruN/4FAmFGa/ICGwwACgkQDmHTu6ruN/7EnQ/+LpBV7FhkfoJbNQ93\n",
            "RuwIz3DppukPuqnlxptJY6/eUa9bMULucbrNsnPZOFXAj2gtFyv6aeaCwrj7ZuE1\n",
            "NScQj9q/OT+5p7VTrx551/RAFbb3RR3WPu8Sjnebm/KIVO/F6y+11loRKlSXLVbQ\n",
            "FO7FcTtptMDYExNosa7xf74sSEXvOonau4wdDT4qEvBCU1sBK9SCJeMUm+n0mz6k\n",
            "rDA7MXGVN+rZF4NNBuWcYd4Q5w/B92m9+K8PMVZ77j2EL8ojggwY24KA22vX4NqR\n",
            "PLZpoO5bo1hiAZhrm9UDaq4ZIfwspy3XmjpSnk4yVmqrE7fi72oVz2taq5LjHGEr\n",
            "7E5UihhbVaIPjR1nkrHj31nM7poL/Ek2QNrQWAA/IQ8l5ata91LWFpMve2cd9tk7\n",
            "FHIT8wNII9bhe7NvXBG7RcA6hvjcRO3gp+usaO1MzRDnbmosRQoeGSjh9txMQVIQ\n",
            "HiRXcKdw6yyrtu12KMD/nJwgbEomikgPfEqRPtTTKYGjwV0/BQcMvJ/3u3AQCDYd\n",
            "asvZu3xH2Cn0aoGMg+jqPVzyC0vY/SQQqmTHjz+msFu3OUsnXsJ6zQaxfGle5O4o\n",
            "9zWY/VMfdn2r9I7sHNk2Sxu3ZALyorHHqeuHBKnM6Ui6ISrWr/9SAPaHN14IR/Le\n",
            "/7JXRqfXsWxyTbOUVnmRWIXPXHU=\n",
            "=ghCR\n",
            "-----END PGP PUBLIC KEY BLOCK-----\n",
            "deb https://ngrok-agent.s3.amazonaws.com buster main\n",
            "Hit:1 https://cloud.r-project.org/bin/linux/ubuntu jammy-cran40/ InRelease\n",
            "Hit:2 https://ngrok-agent.s3.amazonaws.com buster InRelease\n",
            "Hit:3 https://r2u.stat.illinois.edu/ubuntu jammy InRelease\n",
            "Hit:4 https://developer.download.nvidia.com/compute/cuda/repos/ubuntu2204/x86_64  InRelease\n",
            "Hit:5 http://archive.ubuntu.com/ubuntu jammy InRelease\n",
            "Hit:6 http://security.ubuntu.com/ubuntu jammy-security InRelease\n",
            "Hit:7 http://archive.ubuntu.com/ubuntu jammy-updates InRelease\n",
            "Hit:8 https://ppa.launchpadcontent.net/deadsnakes/ppa/ubuntu jammy InRelease\n",
            "Hit:9 http://archive.ubuntu.com/ubuntu jammy-backports InRelease\n",
            "Hit:10 https://ppa.launchpadcontent.net/graphics-drivers/ppa/ubuntu jammy InRelease\n",
            "Hit:11 https://ppa.launchpadcontent.net/ubuntugis/ppa/ubuntu jammy InRelease\n",
            "Reading package lists... Done\n",
            "Building dependency tree... Done\n",
            "Reading state information... Done\n",
            "52 packages can be upgraded. Run 'apt list --upgradable' to see them.\n",
            "\u001b[1;33mW: \u001b[0mSkipping acquire of configured file 'main/source/Sources' as repository 'https://r2u.stat.illinois.edu/ubuntu jammy InRelease' does not seem to provide it (sources.list entry misspelt?)\u001b[0m\n",
            "Reading package lists... Done\n",
            "Building dependency tree... Done\n",
            "Reading state information... Done\n",
            "ngrok is already the newest version (3.19.1).\n",
            "0 upgraded, 0 newly installed, 0 to remove and 52 not upgraded.\n"
          ]
        }
      ]
    },
    {
      "cell_type": "code",
      "source": [
        "!pip install flask pyngrok requests\n"
      ],
      "metadata": {
        "colab": {
          "base_uri": "https://localhost:8080/"
        },
        "id": "a9fgSHxoxOSl",
        "outputId": "f1b8941a-ec3d-41ba-e1c5-f5417c6ba55a"
      },
      "execution_count": 11,
      "outputs": [
        {
          "output_type": "stream",
          "name": "stdout",
          "text": [
            "Requirement already satisfied: flask in /usr/local/lib/python3.11/dist-packages (3.1.0)\n",
            "Requirement already satisfied: pyngrok in /usr/local/lib/python3.11/dist-packages (7.2.3)\n",
            "Requirement already satisfied: requests in /usr/local/lib/python3.11/dist-packages (2.32.3)\n",
            "Requirement already satisfied: Werkzeug>=3.1 in /usr/local/lib/python3.11/dist-packages (from flask) (3.1.3)\n",
            "Requirement already satisfied: Jinja2>=3.1.2 in /usr/local/lib/python3.11/dist-packages (from flask) (3.1.5)\n",
            "Requirement already satisfied: itsdangerous>=2.2 in /usr/local/lib/python3.11/dist-packages (from flask) (2.2.0)\n",
            "Requirement already satisfied: click>=8.1.3 in /usr/local/lib/python3.11/dist-packages (from flask) (8.1.8)\n",
            "Requirement already satisfied: blinker>=1.9 in /usr/local/lib/python3.11/dist-packages (from flask) (1.9.0)\n",
            "Requirement already satisfied: PyYAML>=5.1 in /usr/local/lib/python3.11/dist-packages (from pyngrok) (6.0.2)\n",
            "Requirement already satisfied: charset-normalizer<4,>=2 in /usr/local/lib/python3.11/dist-packages (from requests) (3.4.1)\n",
            "Requirement already satisfied: idna<4,>=2.5 in /usr/local/lib/python3.11/dist-packages (from requests) (3.10)\n",
            "Requirement already satisfied: urllib3<3,>=1.21.1 in /usr/local/lib/python3.11/dist-packages (from requests) (2.3.0)\n",
            "Requirement already satisfied: certifi>=2017.4.17 in /usr/local/lib/python3.11/dist-packages (from requests) (2024.12.14)\n",
            "Requirement already satisfied: MarkupSafe>=2.0 in /usr/local/lib/python3.11/dist-packages (from Jinja2>=3.1.2->flask) (3.0.2)\n"
          ]
        }
      ]
    },
    {
      "cell_type": "code",
      "source": [
        "!pip install flask requests flask-cors pyngrok\n"
      ],
      "metadata": {
        "colab": {
          "base_uri": "https://localhost:8080/"
        },
        "id": "d6RgRaGFwwEH",
        "outputId": "deacdc04-17cd-4f5a-9604-cb3410cb38ff"
      },
      "execution_count": 12,
      "outputs": [
        {
          "output_type": "stream",
          "name": "stdout",
          "text": [
            "Requirement already satisfied: flask in /usr/local/lib/python3.11/dist-packages (3.1.0)\n",
            "Requirement already satisfied: requests in /usr/local/lib/python3.11/dist-packages (2.32.3)\n",
            "Requirement already satisfied: flask-cors in /usr/local/lib/python3.11/dist-packages (5.0.0)\n",
            "Requirement already satisfied: pyngrok in /usr/local/lib/python3.11/dist-packages (7.2.3)\n",
            "Requirement already satisfied: Werkzeug>=3.1 in /usr/local/lib/python3.11/dist-packages (from flask) (3.1.3)\n",
            "Requirement already satisfied: Jinja2>=3.1.2 in /usr/local/lib/python3.11/dist-packages (from flask) (3.1.5)\n",
            "Requirement already satisfied: itsdangerous>=2.2 in /usr/local/lib/python3.11/dist-packages (from flask) (2.2.0)\n",
            "Requirement already satisfied: click>=8.1.3 in /usr/local/lib/python3.11/dist-packages (from flask) (8.1.8)\n",
            "Requirement already satisfied: blinker>=1.9 in /usr/local/lib/python3.11/dist-packages (from flask) (1.9.0)\n",
            "Requirement already satisfied: charset-normalizer<4,>=2 in /usr/local/lib/python3.11/dist-packages (from requests) (3.4.1)\n",
            "Requirement already satisfied: idna<4,>=2.5 in /usr/local/lib/python3.11/dist-packages (from requests) (3.10)\n",
            "Requirement already satisfied: urllib3<3,>=1.21.1 in /usr/local/lib/python3.11/dist-packages (from requests) (2.3.0)\n",
            "Requirement already satisfied: certifi>=2017.4.17 in /usr/local/lib/python3.11/dist-packages (from requests) (2024.12.14)\n",
            "Requirement already satisfied: PyYAML>=5.1 in /usr/local/lib/python3.11/dist-packages (from pyngrok) (6.0.2)\n",
            "Requirement already satisfied: MarkupSafe>=2.0 in /usr/local/lib/python3.11/dist-packages (from Jinja2>=3.1.2->flask) (3.0.2)\n"
          ]
        }
      ]
    },
    {
      "cell_type": "code",
      "source": [
        "import os\n",
        "\n",
        "# Create the templates directory\n",
        "os.makedirs(\"templates\", exist_ok=True)\n",
        "\n",
        "# Create index.html file for frontend\n",
        "with open(\"templates/index.html\", \"w\") as f:\n",
        "    f.write(\"\"\"\n",
        "    <!DOCTYPE html>\n",
        "    <html lang=\"en\">\n",
        "    <head>\n",
        "        <meta charset=\"UTF-8\">\n",
        "        <meta name=\"viewport\" content=\"width=device-width, initial-scale=1.0\">\n",
        "        <title>Weather Dashboard</title>\n",
        "        <style>\n",
        "            body {\n",
        "                font-family: Arial, sans-serif;\n",
        "                text-align: center;\n",
        "                background-color: #f0f8ff;\n",
        "                margin-top: 50px;\n",
        "            }\n",
        "            h1 { color: #4CAF50; }\n",
        "            .container { max-width: 600px; margin: 0 auto; padding: 20px; background-color: #fff; box-shadow: 0 4px 8px rgba(0, 0, 0, 0.1); border-radius: 10px; }\n",
        "            input[type=\"text\"] {\n",
        "                padding: 10px;\n",
        "                width: 80%;\n",
        "                border: 2px solid #ccc;\n",
        "                border-radius: 5px;\n",
        "                margin-bottom: 20px;\n",
        "                font-size: 16px;\n",
        "            }\n",
        "            button {\n",
        "                padding: 10px 20px;\n",
        "                background-color: #4CAF50;\n",
        "                color: white;\n",
        "                font-size: 16px;\n",
        "                border: none;\n",
        "                border-radius: 5px;\n",
        "                cursor: pointer;\n",
        "            }\n",
        "            button:hover {\n",
        "                background-color: #45a049;\n",
        "            }\n",
        "            .weather-info {\n",
        "                font-size: 20px;\n",
        "                margin-top: 20px;\n",
        "                padding: 10px;\n",
        "                display: none;\n",
        "            }\n",
        "            .error { color: red; }\n",
        "            .success { color: #4CAF50; }\n",
        "        </style>\n",
        "    </head>\n",
        "    <body>\n",
        "        <div class=\"container\">\n",
        "            <h1>Real-Time Weather Dashboard</h1>\n",
        "            <input type=\"text\" id=\"city\" placeholder=\"Enter City Name\" autofocus>\n",
        "            <button onclick=\"getWeather()\">Get Weather</button>\n",
        "\n",
        "            <div id=\"weather-info\" class=\"weather-info\"></div>\n",
        "            <div id=\"error-info\" class=\"error\"></div>\n",
        "        </div>\n",
        "\n",
        "        <script>\n",
        "            function getWeather() {\n",
        "                let city = document.getElementById('city').value;\n",
        "                if (city) {\n",
        "                    // Clear previous weather info\n",
        "                    document.getElementById('weather-info').style.display = 'none';\n",
        "                    document.getElementById('error-info').style.display = 'none';\n",
        "\n",
        "                    fetch(`/weather?city=${city}`)\n",
        "                        .then(response => response.json())\n",
        "                        .then(data => {\n",
        "                            if (data.error) {\n",
        "                                document.getElementById('error-info').innerHTML = `<p>${data.error}</p>`;\n",
        "                                document.getElementById('error-info').style.display = 'block';\n",
        "                            } else {\n",
        "                                document.getElementById('weather-info').innerHTML = `\n",
        "                                    <p><strong>${data.city}</strong></p>\n",
        "                                    <p>Temperature: ${data.temperature}°C</p>\n",
        "                                    <p>Humidity: ${data.humidity}%</p>\n",
        "                                    <p>Description: ${data.weather_description}</p>\n",
        "                                `;\n",
        "                                document.getElementById('weather-info').style.display = 'block';\n",
        "                            }\n",
        "                        })\n",
        "                        .catch(error => {\n",
        "                            document.getElementById('error-info').innerHTML = `<p>Something went wrong, please try again later.</p>`;\n",
        "                            document.getElementById('error-info').style.display = 'block';\n",
        "                        });\n",
        "                } else {\n",
        "                    alert(\"Please enter a city name.\");\n",
        "                }\n",
        "            }\n",
        "        </script>\n",
        "    </body>\n",
        "    </html>\n",
        "    \"\"\")\n"
      ],
      "metadata": {
        "id": "iD4IqrYquB7A"
      },
      "execution_count": 13,
      "outputs": []
    },
    {
      "cell_type": "code",
      "source": [
        "from flask import Flask, jsonify, render_template, request\n",
        "import requests\n",
        "from pyngrok import ngrok\n",
        "\n",
        "# Initialize Flask app\n",
        "app = Flask(__name__)\n",
        "\n",
        "# Open an ngrok tunnel to the Flask app\n",
        "public_url = ngrok.connect(5000)\n",
        "print(f\" * Ngrok tunnel URL: {public_url}\")\n",
        "\n",
        "API_KEY = '6893d9a7a1ca18edc85aadde0ce82ab3'  # Replace with your OpenWeatherMap API key\n",
        "\n",
        "@app.route('/')\n",
        "def home():\n",
        "    return render_template('index.html')\n",
        "\n",
        "@app.route('/weather', methods=['GET'])\n",
        "def get_weather():\n",
        "    city = request.args.get('city')\n",
        "    if not city:\n",
        "        return jsonify({\"error\": \"City name is required\"}), 400\n",
        "\n",
        "    # URL to fetch weather data\n",
        "    url = f\"http://api.openweathermap.org/data/2.5/weather?q={city}&appid={API_KEY}&units=metric\"\n",
        "    response = requests.get(url)\n",
        "\n",
        "    # Print raw API response for debugging\n",
        "    print(f\"API Response: {response.json()}\")\n",
        "\n",
        "    data = response.json()\n",
        "\n",
        "    if response.status_code == 200:\n",
        "        weather_data = {\n",
        "            \"city\": city,\n",
        "            \"temperature\": data['main']['temp'],\n",
        "            \"humidity\": data['main']['humidity'],\n",
        "            \"weather_description\": data['weather'][0]['description'],\n",
        "            \"forecast\": \"5-day forecast can be implemented as an extra feature.\"\n",
        "        }\n",
        "        return jsonify(weather_data)\n",
        "    else:\n",
        "        return jsonify({\"error\": \"City not found\"}), 404\n",
        "\n",
        "if __name__ == '__main__':\n",
        "    app.run(debug=False)\n"
      ],
      "metadata": {
        "colab": {
          "base_uri": "https://localhost:8080/"
        },
        "id": "X4eVaSvyt2Nx",
        "outputId": "aa5a5cad-211b-44a2-cdae-ec3707d352c2"
      },
      "execution_count": null,
      "outputs": [
        {
          "output_type": "stream",
          "name": "stdout",
          "text": [
            " * Ngrok tunnel URL: NgrokTunnel: \"https://8d47-34-66-253-90.ngrok-free.app\" -> \"http://localhost:5000\"\n",
            " * Serving Flask app '__main__'\n",
            " * Debug mode: off\n"
          ]
        },
        {
          "output_type": "stream",
          "name": "stderr",
          "text": [
            "INFO:werkzeug:\u001b[31m\u001b[1mWARNING: This is a development server. Do not use it in a production deployment. Use a production WSGI server instead.\u001b[0m\n",
            " * Running on http://127.0.0.1:5000\n",
            "INFO:werkzeug:\u001b[33mPress CTRL+C to quit\u001b[0m\n",
            "INFO:werkzeug:127.0.0.1 - - [27/Jan/2025 13:27:17] \"GET / HTTP/1.1\" 200 -\n",
            "INFO:werkzeug:127.0.0.1 - - [27/Jan/2025 13:27:17] \"\u001b[33mGET /favicon.ico HTTP/1.1\u001b[0m\" 404 -\n",
            "INFO:werkzeug:127.0.0.1 - - [27/Jan/2025 13:27:20] \"GET /weather?city=Kadapa HTTP/1.1\" 200 -\n"
          ]
        },
        {
          "output_type": "stream",
          "name": "stdout",
          "text": [
            "API Response: {'coord': {'lon': 78.8167, 'lat': 14.4667}, 'weather': [{'id': 802, 'main': 'Clouds', 'description': 'scattered clouds', 'icon': '03n'}], 'base': 'stations', 'main': {'temp': 25.26, 'feels_like': 24.96, 'temp_min': 25.26, 'temp_max': 25.26, 'pressure': 1010, 'humidity': 43, 'sea_level': 1010, 'grnd_level': 980}, 'visibility': 10000, 'wind': {'speed': 3.19, 'deg': 100, 'gust': 3.73}, 'clouds': {'all': 37}, 'dt': 1737984440, 'sys': {'country': 'IN', 'sunrise': 1737940409, 'sunset': 1737981671}, 'timezone': 19800, 'id': 1273800, 'name': 'Kadapa', 'cod': 200}\n"
          ]
        }
      ]
    }
  ]
}